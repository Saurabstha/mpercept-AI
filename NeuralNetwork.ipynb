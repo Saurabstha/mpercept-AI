{
 "cells": [
  {
   "cell_type": "code",
   "execution_count": 57,
   "metadata": {},
   "outputs": [],
   "source": [
    "import numpy as np\n",
    "import matplotlib.pyplot as plt"
   ]
  },
  {
   "cell_type": "code",
   "execution_count": 58,
   "metadata": {},
   "outputs": [],
   "source": [
    "import keras\n",
    "import tensorflow as tf\n",
    "from tensorflow.keras.models import Sequential\n",
    "from tensorflow.keras.layers import Dense"
   ]
  },
  {
   "cell_type": "code",
   "execution_count": 59,
   "metadata": {},
   "outputs": [
    {
     "name": "stdout",
     "output_type": "stream",
     "text": [
      "[-1. -1. -1. -1. -1. -1. -1. -1. -1. -1. -1. -1. -1. -1. -1. -1. -1. -1.\n",
      " -1. -1. -1. -1. -1. -1. -1. -1. -1. -1. -1. -1. -1. -1. -1. -1. -1. -1.\n",
      " -1. -1. -1. -1. -1. -1. -1. -1. -1. -1. -1. -1. -1. -1. -1. -1. -1. -1.\n",
      " -1. -1. -1. -1. -1. -1. -1. -1. -1. -1. -1. -1. -1. -1. -1. -1. -1. -1.\n",
      " -1. -1. -1. -1. -1. -1. -1. -1. -1. -1. -1. -1. -1. -1. -1. -1. -1. -1.\n",
      " -1. -1. -1. -1. -1. -1. -1. -1. -1. -1. -1.]\n"
     ]
    }
   ],
   "source": [
    "x = np.linspace(-1,-1,101)\n",
    "y = 2*x\n",
    "print(x)"
   ]
  },
  {
   "cell_type": "code",
   "execution_count": 60,
   "metadata": {},
   "outputs": [
    {
     "name": "stdout",
     "output_type": "stream",
     "text": [
      "Model: \"sequential_6\"\n",
      "_________________________________________________________________\n",
      "Layer (type)                 Output Shape              Param #   \n",
      "=================================================================\n",
      "dense_7 (Dense)              (None, 1)                 2         \n",
      "_________________________________________________________________\n",
      "dense_8 (Dense)              (None, 1)                 2         \n",
      "=================================================================\n",
      "Total params: 4\n",
      "Trainable params: 4\n",
      "Non-trainable params: 0\n",
      "_________________________________________________________________\n"
     ]
    }
   ],
   "source": [
    "model = Sequential()\n",
    "\n",
    "model.add(Dense(1,input_dim=1,activation='linear'))\n",
    "model.add(Dense(1)) #output layer with only one node\n",
    "\n",
    "model.summary()"
   ]
  },
  {
   "cell_type": "code",
   "execution_count": 61,
   "metadata": {},
   "outputs": [],
   "source": [
    "model.compile('sgd', 'mse', metrics=['mae','acc'])"
   ]
  },
  {
   "cell_type": "code",
   "execution_count": 62,
   "metadata": {},
   "outputs": [
    {
     "name": "stdout",
     "output_type": "stream",
     "text": [
      "WARNING:tensorflow:The `nb_epoch` argument in `fit` has been renamed `epochs`.\n",
      "Train on 101 samples\n",
      "Epoch 1/100\n",
      "101/101 [==============================] - 0s 4ms/sample - loss: 1.1703 - mae: 1.0795 - acc: 0.0000e+00\n",
      "Epoch 2/100\n",
      "101/101 [==============================] - 0s 109us/sample - loss: 0.6234 - mae: 0.7872 - acc: 0.0000e+00\n",
      "Epoch 3/100\n",
      "101/101 [==============================] - 0s 138us/sample - loss: 0.3004 - mae: 0.5460 - acc: 0.0000e+00\n",
      "Epoch 4/100\n",
      "101/101 [==============================] - 0s 138us/sample - loss: 0.1330 - mae: 0.3631 - acc: 0.0000e+00\n",
      "Epoch 5/100\n",
      "101/101 [==============================] - 0s 128us/sample - loss: 0.0552 - mae: 0.2338 - acc: 0.0000e+00\n",
      "Epoch 6/100\n",
      "101/101 [==============================] - 0s 148us/sample - loss: 0.0219 - mae: 0.1472 - acc: 0.0000e+00\n",
      "Epoch 7/100\n",
      "101/101 [==============================] - 0s 138us/sample - loss: 0.0084 - mae: 0.0913 - acc: 0.0000e+00\n",
      "Epoch 8/100\n",
      "101/101 [==============================] - 0s 128us/sample - loss: 0.0032 - mae: 0.0560 - acc: 0.0000e+00\n",
      "Epoch 9/100\n",
      "101/101 [==============================] - 0s 158us/sample - loss: 0.0012 - mae: 0.0342 - acc: 0.0000e+00\n",
      "Epoch 10/100\n",
      "101/101 [==============================] - 0s 148us/sample - loss: 4.3745e-04 - mae: 0.0208 - acc: 0.0000e+00\n",
      "Epoch 11/100\n",
      "101/101 [==============================] - 0s 118us/sample - loss: 1.6089e-04 - mae: 0.0126 - acc: 0.0000e+00\n",
      "Epoch 12/100\n",
      "101/101 [==============================] - 0s 138us/sample - loss: 5.9003e-05 - mae: 0.0076 - acc: 0.0000e+00\n",
      "Epoch 13/100\n",
      "101/101 [==============================] - 0s 138us/sample - loss: 2.1600e-05 - mae: 0.0046 - acc: 0.0000e+00\n",
      "Epoch 14/100\n",
      "101/101 [==============================] - 0s 188us/sample - loss: 7.8988e-06 - mae: 0.0028 - acc: 0.0000e+00\n",
      "Epoch 15/100\n",
      "101/101 [==============================] - 0s 128us/sample - loss: 2.8864e-06 - mae: 0.0017 - acc: 0.0000e+00\n",
      "Epoch 16/100\n",
      "101/101 [==============================] - 0s 148us/sample - loss: 1.0548e-06 - mae: 0.0010 - acc: 0.0000e+00\n",
      "Epoch 17/100\n",
      "101/101 [==============================] - 0s 188us/sample - loss: 3.8526e-07 - mae: 6.1678e-04 - acc: 0.0000e+00\n",
      "Epoch 18/100\n",
      "101/101 [==============================] - 0s 148us/sample - loss: 1.4070e-07 - mae: 3.7275e-04 - acc: 0.0000e+00\n",
      "Epoch 19/100\n",
      "101/101 [==============================] - 0s 138us/sample - loss: 5.1401e-08 - mae: 2.2530e-04 - acc: 0.0000e+00\n",
      "Epoch 20/100\n",
      "101/101 [==============================] - 0s 158us/sample - loss: 1.8748e-08 - mae: 1.3607e-04 - acc: 0.0000e+00\n",
      "Epoch 21/100\n",
      "101/101 [==============================] - 0s 207us/sample - loss: 6.8566e-09 - mae: 8.2282e-05 - acc: 0.0000e+00\n",
      "Epoch 22/100\n",
      "101/101 [==============================] - 0s 148us/sample - loss: 2.5255e-09 - mae: 4.9940e-05 - acc: 0.0000e+00\n",
      "Epoch 23/100\n",
      "101/101 [==============================] - 0s 138us/sample - loss: 9.2404e-10 - mae: 3.0213e-05 - acc: 0.0000e+00\n",
      "Epoch 24/100\n",
      "101/101 [==============================] - 0s 148us/sample - loss: 3.4105e-10 - mae: 1.8352e-05 - acc: 0.0000e+00\n",
      "Epoch 25/100\n",
      "101/101 [==============================] - 0s 128us/sample - loss: 1.2589e-10 - mae: 1.1157e-05 - acc: 0.0000e+00\n",
      "Epoch 26/100\n",
      "101/101 [==============================] - 0s 158us/sample - loss: 4.5117e-11 - mae: 6.6804e-06 - acc: 0.0000e+00\n",
      "Epoch 27/100\n",
      "101/101 [==============================] - 0s 158us/sample - loss: 1.6892e-11 - mae: 4.0814e-06 - acc: 0.0000e+00\n",
      "Epoch 28/100\n",
      "101/101 [==============================] - 0s 168us/sample - loss: 5.4193e-12 - mae: 2.3110e-06 - acc: 0.0000e+00\n",
      "Epoch 29/100\n",
      "101/101 [==============================] - 0s 138us/sample - loss: 2.5146e-12 - mae: 1.5816e-06 - acc: 0.0000e+00\n",
      "Epoch 30/100\n",
      "101/101 [==============================] - 0s 197us/sample - loss: 1.9119e-12 - mae: 1.3809e-06 - acc: 0.0000e+00\n",
      "Epoch 31/100\n",
      "101/101 [==============================] - 0s 158us/sample - loss: 1.2337e-12 - mae: 1.1048e-06 - acc: 0.0000e+00\n",
      "Epoch 32/100\n",
      "101/101 [==============================] - 0s 158us/sample - loss: 8.3141e-13 - mae: 9.1000e-07 - acc: 0.0000e+00\n",
      "Epoch 33/100\n",
      "101/101 [==============================] - 0s 158us/sample - loss: 5.7012e-13 - mae: 7.5303e-07 - acc: 0.0000e+00\n",
      "Epoch 34/100\n",
      "101/101 [==============================] - 0s 138us/sample - loss: 5.1159e-13 - mae: 7.1526e-07 - acc: 0.0000e+00\n",
      "Epoch 35/100\n",
      "101/101 [==============================] - 0s 158us/sample - loss: 4.0747e-13 - mae: 6.2791e-07 - acc: 0.0000e+00\n",
      "Epoch 36/100\n",
      "101/101 [==============================] - 0s 227us/sample - loss: 2.2737e-13 - mae: 4.7684e-07 - acc: 0.0000e+00\n",
      "Epoch 37/100\n",
      "101/101 [==============================] - 0s 158us/sample - loss: 2.2737e-13 - mae: 4.7684e-07 - acc: 0.0000e+00\n",
      "Epoch 38/100\n",
      "101/101 [==============================] - 0s 148us/sample - loss: 2.2737e-13 - mae: 4.7684e-07 - acc: 0.0000e+00\n",
      "Epoch 39/100\n",
      "101/101 [==============================] - 0s 138us/sample - loss: 1.6490e-13 - mae: 3.8950e-07 - acc: 0.0000e+00\n",
      "Epoch 40/100\n",
      "101/101 [==============================] - 0s 128us/sample - loss: 5.6843e-14 - mae: 2.3842e-07 - acc: 0.0000e+00\n",
      "Epoch 41/100\n",
      "101/101 [==============================] - 0s 148us/sample - loss: 5.6843e-14 - mae: 2.3842e-07 - acc: 0.0000e+00\n",
      "Epoch 42/100\n",
      "101/101 [==============================] - 0s 138us/sample - loss: 5.6843e-14 - mae: 2.3842e-07 - acc: 0.0000e+00\n",
      "Epoch 43/100\n",
      "101/101 [==============================] - 0s 128us/sample - loss: 5.6843e-14 - mae: 2.3842e-07 - acc: 0.0000e+00\n",
      "Epoch 44/100\n",
      "101/101 [==============================] - 0s 128us/sample - loss: 5.6843e-14 - mae: 2.3842e-07 - acc: 0.0000e+00\n",
      "Epoch 45/100\n",
      "101/101 [==============================] - 0s 128us/sample - loss: 5.6843e-14 - mae: 2.3842e-07 - acc: 0.0000e+00\n",
      "Epoch 46/100\n",
      "101/101 [==============================] - 0s 128us/sample - loss: 5.6843e-14 - mae: 2.3842e-07 - acc: 0.0000e+00\n",
      "Epoch 47/100\n",
      "101/101 [==============================] - 0s 148us/sample - loss: 5.6843e-14 - mae: 2.3842e-07 - acc: 0.0000e+00\n",
      "Epoch 48/100\n",
      "101/101 [==============================] - 0s 138us/sample - loss: 5.6843e-14 - mae: 2.3842e-07 - acc: 0.0000e+00\n",
      "Epoch 49/100\n",
      "101/101 [==============================] - 0s 168us/sample - loss: 5.6843e-14 - mae: 2.3842e-07 - acc: 0.0000e+00\n",
      "Epoch 50/100\n",
      "101/101 [==============================] - 0s 158us/sample - loss: 5.6843e-14 - mae: 2.3842e-07 - acc: 0.0000e+00\n",
      "Epoch 51/100\n",
      "101/101 [==============================] - 0s 148us/sample - loss: 5.6843e-14 - mae: 2.3842e-07 - acc: 0.0000e+00\n",
      "Epoch 52/100\n",
      "101/101 [==============================] - 0s 128us/sample - loss: 5.6843e-14 - mae: 2.3842e-07 - acc: 0.0000e+00\n",
      "Epoch 53/100\n",
      "101/101 [==============================] - 0s 168us/sample - loss: 5.6843e-14 - mae: 2.3842e-07 - acc: 0.0000e+00\n",
      "Epoch 54/100\n",
      "101/101 [==============================] - 0s 128us/sample - loss: 5.6843e-14 - mae: 2.3842e-07 - acc: 0.0000e+00\n",
      "Epoch 55/100\n",
      "101/101 [==============================] - 0s 168us/sample - loss: 5.6843e-14 - mae: 2.3842e-07 - acc: 0.0000e+00\n",
      "Epoch 56/100\n",
      "101/101 [==============================] - 0s 138us/sample - loss: 5.6843e-14 - mae: 2.3842e-07 - acc: 0.0000e+00\n",
      "Epoch 57/100\n",
      "101/101 [==============================] - 0s 138us/sample - loss: 5.6843e-14 - mae: 2.3842e-07 - acc: 0.0000e+00\n",
      "Epoch 58/100\n",
      "101/101 [==============================] - 0s 148us/sample - loss: 5.6843e-14 - mae: 2.3842e-07 - acc: 0.0000e+00\n",
      "Epoch 59/100\n",
      "101/101 [==============================] - 0s 138us/sample - loss: 5.6843e-14 - mae: 2.3842e-07 - acc: 0.0000e+00\n",
      "Epoch 60/100\n",
      "101/101 [==============================] - 0s 118us/sample - loss: 5.6843e-14 - mae: 2.3842e-07 - acc: 0.0000e+00\n",
      "Epoch 61/100\n",
      "101/101 [==============================] - 0s 138us/sample - loss: 5.6843e-14 - mae: 2.3842e-07 - acc: 0.0000e+00\n",
      "Epoch 62/100\n",
      "101/101 [==============================] - 0s 138us/sample - loss: 5.6843e-14 - mae: 2.3842e-07 - acc: 0.0000e+00\n",
      "Epoch 63/100\n",
      "101/101 [==============================] - 0s 138us/sample - loss: 5.6843e-14 - mae: 2.3842e-07 - acc: 0.0000e+00\n",
      "Epoch 64/100\n",
      "101/101 [==============================] - 0s 138us/sample - loss: 5.6843e-14 - mae: 2.3842e-07 - acc: 0.0000e+00\n",
      "Epoch 65/100\n"
     ]
    },
    {
     "name": "stdout",
     "output_type": "stream",
     "text": [
      "101/101 [==============================] - 0s 138us/sample - loss: 5.6843e-14 - mae: 2.3842e-07 - acc: 0.0000e+00\n",
      "Epoch 66/100\n",
      "101/101 [==============================] - 0s 119us/sample - loss: 5.6843e-14 - mae: 2.3842e-07 - acc: 0.0000e+00\n",
      "Epoch 67/100\n",
      "101/101 [==============================] - 0s 128us/sample - loss: 5.6843e-14 - mae: 2.3842e-07 - acc: 0.0000e+00\n",
      "Epoch 68/100\n",
      "101/101 [==============================] - 0s 128us/sample - loss: 5.6843e-14 - mae: 2.3842e-07 - acc: 0.0000e+00\n",
      "Epoch 69/100\n",
      "101/101 [==============================] - 0s 128us/sample - loss: 5.6843e-14 - mae: 2.3842e-07 - acc: 0.0000e+00\n",
      "Epoch 70/100\n",
      "101/101 [==============================] - 0s 148us/sample - loss: 5.6843e-14 - mae: 2.3842e-07 - acc: 0.0000e+00\n",
      "Epoch 71/100\n",
      "101/101 [==============================] - 0s 128us/sample - loss: 5.6843e-14 - mae: 2.3842e-07 - acc: 0.0000e+00\n",
      "Epoch 72/100\n",
      "101/101 [==============================] - 0s 128us/sample - loss: 5.6843e-14 - mae: 2.3842e-07 - acc: 0.0000e+00\n",
      "Epoch 73/100\n",
      "101/101 [==============================] - 0s 119us/sample - loss: 5.6843e-14 - mae: 2.3842e-07 - acc: 0.0000e+00\n",
      "Epoch 74/100\n",
      "101/101 [==============================] - 0s 118us/sample - loss: 5.6843e-14 - mae: 2.3842e-07 - acc: 0.0000e+00\n",
      "Epoch 75/100\n",
      "101/101 [==============================] - 0s 148us/sample - loss: 5.6843e-14 - mae: 2.3842e-07 - acc: 0.0000e+00\n",
      "Epoch 76/100\n",
      "101/101 [==============================] - 0s 128us/sample - loss: 5.6843e-14 - mae: 2.3842e-07 - acc: 0.0000e+00\n",
      "Epoch 77/100\n",
      "101/101 [==============================] - 0s 128us/sample - loss: 5.6843e-14 - mae: 2.3842e-07 - acc: 0.0000e+00\n",
      "Epoch 78/100\n",
      "101/101 [==============================] - 0s 138us/sample - loss: 5.6843e-14 - mae: 2.3842e-07 - acc: 0.0000e+00\n",
      "Epoch 79/100\n",
      "101/101 [==============================] - 0s 128us/sample - loss: 5.6843e-14 - mae: 2.3842e-07 - acc: 0.0000e+00\n",
      "Epoch 80/100\n",
      "101/101 [==============================] - 0s 119us/sample - loss: 5.6843e-14 - mae: 2.3842e-07 - acc: 0.0000e+00\n",
      "Epoch 81/100\n",
      "101/101 [==============================] - 0s 128us/sample - loss: 5.6843e-14 - mae: 2.3842e-07 - acc: 0.0000e+00\n",
      "Epoch 82/100\n",
      "101/101 [==============================] - 0s 109us/sample - loss: 5.6843e-14 - mae: 2.3842e-07 - acc: 0.0000e+00\n",
      "Epoch 83/100\n",
      "101/101 [==============================] - 0s 119us/sample - loss: 5.6843e-14 - mae: 2.3842e-07 - acc: 0.0000e+00\n",
      "Epoch 84/100\n",
      "101/101 [==============================] - 0s 118us/sample - loss: 5.6843e-14 - mae: 2.3842e-07 - acc: 0.0000e+00\n",
      "Epoch 85/100\n",
      "101/101 [==============================] - 0s 128us/sample - loss: 5.6843e-14 - mae: 2.3842e-07 - acc: 0.0000e+00\n",
      "Epoch 86/100\n",
      "101/101 [==============================] - 0s 138us/sample - loss: 5.6843e-14 - mae: 2.3842e-07 - acc: 0.0000e+00\n",
      "Epoch 87/100\n",
      "101/101 [==============================] - 0s 138us/sample - loss: 5.6843e-14 - mae: 2.3842e-07 - acc: 0.0000e+00\n",
      "Epoch 88/100\n",
      "101/101 [==============================] - 0s 128us/sample - loss: 5.6843e-14 - mae: 2.3842e-07 - acc: 0.0000e+00\n",
      "Epoch 89/100\n",
      "101/101 [==============================] - 0s 158us/sample - loss: 5.6843e-14 - mae: 2.3842e-07 - acc: 0.0000e+00\n",
      "Epoch 90/100\n",
      "101/101 [==============================] - 0s 128us/sample - loss: 5.6843e-14 - mae: 2.3842e-07 - acc: 0.0000e+00\n",
      "Epoch 91/100\n",
      "101/101 [==============================] - 0s 118us/sample - loss: 5.6843e-14 - mae: 2.3842e-07 - acc: 0.0000e+00\n",
      "Epoch 92/100\n",
      "101/101 [==============================] - 0s 128us/sample - loss: 5.6843e-14 - mae: 2.3842e-07 - acc: 0.0000e+00\n",
      "Epoch 93/100\n",
      "101/101 [==============================] - 0s 128us/sample - loss: 5.6843e-14 - mae: 2.3842e-07 - acc: 0.0000e+00\n",
      "Epoch 94/100\n",
      "101/101 [==============================] - 0s 188us/sample - loss: 5.6843e-14 - mae: 2.3842e-07 - acc: 0.0000e+00\n",
      "Epoch 95/100\n",
      "101/101 [==============================] - 0s 138us/sample - loss: 5.6843e-14 - mae: 2.3842e-07 - acc: 0.0000e+00\n",
      "Epoch 96/100\n",
      "101/101 [==============================] - 0s 118us/sample - loss: 5.6843e-14 - mae: 2.3842e-07 - acc: 0.0000e+00\n",
      "Epoch 97/100\n",
      "101/101 [==============================] - ETA: 0s - loss: 5.6843e-14 - mae: 2.3842e-07 - acc: 0.0000e+0 - 0s 128us/sample - loss: 5.6843e-14 - mae: 2.3842e-07 - acc: 0.0000e+00\n",
      "Epoch 98/100\n",
      "101/101 [==============================] - 0s 138us/sample - loss: 5.6843e-14 - mae: 2.3842e-07 - acc: 0.0000e+00\n",
      "Epoch 99/100\n",
      "101/101 [==============================] - 0s 138us/sample - loss: 5.6843e-14 - mae: 2.3842e-07 - acc: 0.0000e+00\n",
      "Epoch 100/100\n",
      "101/101 [==============================] - 0s 138us/sample - loss: 5.6843e-14 - mae: 2.3842e-07 - acc: 0.0000e+00\n"
     ]
    }
   ],
   "source": [
    "history = model.fit(x,y,nb_epoch=100, verbose=1)"
   ]
  },
  {
   "cell_type": "code",
   "execution_count": 63,
   "metadata": {},
   "outputs": [
    {
     "name": "stdout",
     "output_type": "stream",
     "text": [
      "4/1 [========================================================================================================================] - 0s 25ms/sample - loss: 0.6908 - mae: 0.8121 - acc: 0.0000e+00\n",
      "[0.6908072233200073, 0.81212354, 0.0]\n"
     ]
    }
   ],
   "source": [
    "test_x = np.array([1000,100,1200,1900])/1900\n",
    "test_y = 2*test_x\n",
    "# test_y = keras.utils.to_cateorical(test_y, num_classes = 2)\n",
    "\n",
    "test = model.evaluate(test_x,test_y) #gives loss and accuracy\n",
    "print(test)"
   ]
  },
  {
   "cell_type": "code",
   "execution_count": 64,
   "metadata": {},
   "outputs": [
    {
     "name": "stdout",
     "output_type": "stream",
     "text": [
      "[[147.17067]\n",
      " [148.67743]\n",
      " [150.18422]\n",
      " [151.69098]\n",
      " [153.19777]\n",
      " [154.70456]\n",
      " [156.21132]\n",
      " [157.71808]\n",
      " [159.22485]\n",
      " [160.73163]\n",
      " [162.2384 ]\n",
      " [163.74518]\n",
      " [165.25197]\n",
      " [166.75873]\n",
      " [168.26552]\n",
      " [169.77228]\n",
      " [171.27907]\n",
      " [172.78583]\n",
      " [174.29262]\n",
      " [175.79938]\n",
      " [177.30615]\n",
      " [178.81293]\n",
      " [180.3197 ]\n",
      " [181.82648]\n",
      " [183.33325]\n",
      " [184.84003]\n",
      " [186.3468 ]\n",
      " [187.85358]\n",
      " [189.36035]\n",
      " [190.86713]\n",
      " [192.3739 ]\n",
      " [193.88068]\n",
      " [195.38747]\n",
      " [196.89423]\n",
      " [198.40102]\n",
      " [199.90778]\n",
      " [201.41457]\n",
      " [202.92133]\n",
      " [204.42807]\n",
      " [205.93486]\n",
      " [207.44162]\n",
      " [208.94841]\n",
      " [210.45517]\n",
      " [211.96196]\n",
      " [213.46873]\n",
      " [214.97551]\n",
      " [216.48228]\n",
      " [217.98906]\n",
      " [219.49583]\n",
      " [221.00261]\n",
      " [222.50938]\n",
      " [224.01616]\n",
      " [225.52293]\n",
      " [227.02971]\n",
      " [228.53648]\n",
      " [230.04326]\n",
      " [231.55003]\n",
      " [233.05681]\n",
      " [234.56358]\n",
      " [236.07037]\n",
      " [237.57713]\n",
      " [239.08392]\n",
      " [240.59067]\n",
      " [242.09743]\n",
      " [243.60422]\n",
      " [245.11098]\n",
      " [246.61777]\n",
      " [248.12453]\n",
      " [249.63132]\n",
      " [251.13808]\n",
      " [252.64487]\n",
      " [254.15164]\n",
      " [255.65842]\n",
      " [257.1652 ]\n",
      " [258.67194]\n",
      " [260.17874]\n",
      " [261.6855 ]\n",
      " [263.1923 ]\n",
      " [264.69904]\n",
      " [266.20584]\n",
      " [267.7126 ]\n",
      " [269.2194 ]\n",
      " [270.72614]\n",
      " [272.23294]\n",
      " [273.7397 ]\n",
      " [275.2465 ]\n",
      " [276.75327]\n",
      " [278.26   ]\n",
      " [279.76678]\n",
      " [281.27353]\n",
      " [282.78033]\n",
      " [284.2871 ]\n",
      " [285.79388]\n",
      " [287.30063]\n",
      " [288.80743]\n",
      " [290.3142 ]\n",
      " [291.82098]\n",
      " [293.3278 ]\n",
      " [294.83453]\n",
      " [296.3413 ]]\n",
      "\r",
      "100/1 [========================================================================================================================================================================================================================================================================================================================================================================================================================================================================================================================================================================================================================================================================================================================================================================================================================================================================================================================================================================================================================================================================================================================================================================================================================================================================================================================================================================================================================================================================================================================================================================================================================================================================================================================================================================================================================================================================================================================================================================================================================================================================================================================================================================================================================================================================================================================================================================================================================================================================================================================================================================================================================================================================================================================================================================================================================================================================================================================================================================================================================================================================================================================] - 0s 70us/sample - loss: 8756.2476 - mae: 79.2440 - acc: 0.0000e+00\n"
     ]
    },
    {
     "data": {
      "text/plain": [
       "[6516.889765625, 79.24401, 0.0]"
      ]
     },
     "execution_count": 64,
     "metadata": {},
     "output_type": "execute_result"
    }
   ],
   "source": [
    "predict_input = np.linspace(100,201,100)\n",
    "predictions = model.predict(predict_input)\n",
    "print(predictions)\n",
    "model.evaluate(predict_input,2*predict_input)"
   ]
  },
  {
   "cell_type": "code",
   "execution_count": 65,
   "metadata": {},
   "outputs": [],
   "source": [
    "# model saving\n",
    "# serialize model to json\n",
    "model_json = model.to_json()\n",
    "\n",
    "# model config as json\n",
    "with open(\"day1.json\", \"w\") as json_file:\n",
    "    json_file.write(model_json)\n",
    "    \n",
    "#serialize weight to HDF5\n",
    "model.save_weights(\"day1.h5\")"
   ]
  },
  {
   "cell_type": "code",
   "execution_count": 66,
   "metadata": {},
   "outputs": [],
   "source": [
    "from tensorflow.keras.models import load_model\n",
    "from tensorflow.keras.models import model_from_json\n",
    "\n",
    "with open('day1.json','r') as f:\n",
    "    model_loaded = model_from_json(f.read())\n",
    "    \n",
    "# load weights into new model\n",
    "model_loaded.load_weights('day1.h5')"
   ]
  },
  {
   "cell_type": "code",
   "execution_count": 67,
   "metadata": {},
   "outputs": [
    {
     "name": "stdout",
     "output_type": "stream",
     "text": [
      "Model: \"sequential_6\"\n",
      "_________________________________________________________________\n",
      "Layer (type)                 Output Shape              Param #   \n",
      "=================================================================\n",
      "dense_7 (Dense)              (None, 1)                 2         \n",
      "_________________________________________________________________\n",
      "dense_8 (Dense)              (None, 1)                 2         \n",
      "=================================================================\n",
      "Total params: 4\n",
      "Trainable params: 4\n",
      "Non-trainable params: 0\n",
      "_________________________________________________________________\n"
     ]
    }
   ],
   "source": [
    "model_loaded.summary()"
   ]
  },
  {
   "cell_type": "code",
   "execution_count": 68,
   "metadata": {},
   "outputs": [],
   "source": [
    "#9845703499 sudhan kadel\n",
    "# sgd ra momentum optimizer.. momentum bala ma purano balako wt ni herxa\n",
    "# momentum parameter\n",
    "# adam optimizer\n",
    "# each epoc ma wt update garda dher time lagxa,, if 32 batch size(if 3200 ota example xa vane),, pahila 100(batch size = total example/harek batch ma hune example) ota example train garaune ani wt update garaune"
   ]
  },
  {
   "cell_type": "code",
   "execution_count": 69,
   "metadata": {},
   "outputs": [
    {
     "name": "stdout",
     "output_type": "stream",
     "text": [
      "dict_keys(['loss', 'mae', 'acc'])\n"
     ]
    },
    {
     "data": {
      "image/png": "[encoded data removed]",
      "text/plain": [
       "<Figure size 432x288 with 1 Axes>"
      ]
     },
     "metadata": {
      "needs_background": "light"
     },
     "output_type": "display_data"
    }
   ],
   "source": [
    "# visualization of model\n",
    "print(history.history.keys())\n",
    "# metrics ma mae ra acc xa ,, model herne param\n",
    "\n",
    "# summarize history for loss\n",
    "plt.plot(history.history['loss'])\n",
    "plt.plot(history.history['mae'])\n",
    "plt.plot(history.history['acc'])\n",
    "\n",
    "plt.title('model loss')\n",
    "plt.legend(['loss', 'mae', 'acc'])\n",
    "plt.xlabel('epoch')\n",
    "plt.ylabel('loss')\n",
    "plt.show()"
   ]
  },
  {
   "cell_type": "code",
   "execution_count": null,
   "metadata": {},
   "outputs": [],
   "source": []
  }
 ],
 "metadata": {
  "kernelspec": {
   "display_name": "Python 3",
   "language": "python",
   "name": "python3"
  },
  "language_info": {
   "codemirror_mode": {
    "name": "ipython",
    "version": 3
   },
   "file_extension": ".py",
   "mimetype": "text/x-python",
   "name": "python",
   "nbconvert_exporter": "python",
   "pygments_lexer": "ipython3",
   "version": "3.7.4"
  }
 },
 "nbformat": 4,
 "nbformat_minor": 2
}
