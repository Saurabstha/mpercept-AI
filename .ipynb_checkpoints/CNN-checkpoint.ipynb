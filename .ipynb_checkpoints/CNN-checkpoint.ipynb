{
 "cells": [
  {
   "cell_type": "markdown",
   "metadata": {},
   "source": [
    "Convolutional Neural Network"
   ]
  },
  {
   "cell_type": "code",
   "execution_count": 2,
   "metadata": {},
   "outputs": [],
   "source": [
    "# suraj shrestha"
   ]
  },
  {
   "cell_type": "code",
   "execution_count": 4,
   "metadata": {},
   "outputs": [],
   "source": [
    "# n-f+1\n",
    "# f is filter matrix ko size\n",
    "# n vanya original ko size\n",
    "# padding garexi loss hudaina\n",
    "# pooling garexi sizze ghatxa( matrix ko)\n"
   ]
  },
  {
   "cell_type": "code",
   "execution_count": 6,
   "metadata": {},
   "outputs": [],
   "source": [
    "from tensorflow.keras.models import Sequential,load_model\n",
    "from tensorflow.keras.layers import Dense,Conv2D,Flatten,MaxPool2D,Dropout\n",
    "from tensorflow.keras import optimizers"
   ]
  },
  {
   "cell_type": "code",
   "execution_count": 12,
   "metadata": {},
   "outputs": [],
   "source": [
    "model = Sequential()\n",
    "model.add(Conv2D(filters=32,kernel_size=(2,2),input_shape=(28,28,1),activation='relu'))\n",
    "model.add(Conv2D(filters=64,kernel_size=(2,2),activation='relu'))\n",
    "# yo 2 ta line le features extract garxa,, kernel size 2,2 ko 32 ota filters\n",
    "model.add(Flatten())\n",
    "model.add(Dense(128,activation='relu'))  #input layer with 128 neuron\n",
    "model.add(Dense(64,activation='relu'))  #hidden layer with 64 neuron\n",
    "model.add(Dense(10,activation='softmax')) #output layer with 10 neuron\n",
    "# dense fully connected layer\n",
    "# softmaX LE probablity nikalxa 10 ota madhe jasko prob high hunxa\n"
   ]
  },
  {
   "cell_type": "code",
   "execution_count": 13,
   "metadata": {
    "scrolled": true
   },
   "outputs": [
    {
     "name": "stdout",
     "output_type": "stream",
     "text": [
      "Model: \"sequential_3\"\n",
      "_________________________________________________________________\n",
      "Layer (type)                 Output Shape              Param #   \n",
      "=================================================================\n",
      "conv2d_4 (Conv2D)            (None, 27, 27, 32)        160       \n",
      "_________________________________________________________________\n",
      "conv2d_5 (Conv2D)            (None, 26, 26, 64)        8256      \n",
      "_________________________________________________________________\n",
      "flatten_1 (Flatten)          (None, 43264)             0         \n",
      "_________________________________________________________________\n",
      "dense_6 (Dense)              (None, 128)               5537920   \n",
      "_________________________________________________________________\n",
      "dense_7 (Dense)              (None, 64)                8256      \n",
      "_________________________________________________________________\n",
      "dense_8 (Dense)              (None, 10)                650       \n",
      "=================================================================\n",
      "Total params: 5,555,242\n",
      "Trainable params: 5,555,242\n",
      "Non-trainable params: 0\n",
      "_________________________________________________________________\n"
     ]
    }
   ],
   "source": [
    "model.summary()"
   ]
  },
  {
   "cell_type": "code",
   "execution_count": 14,
   "metadata": {},
   "outputs": [],
   "source": [
    "model.compile(loss='categorical_crossentropy', optimizer='adam', metrics=['accuracy'])\n"
   ]
  },
  {
   "cell_type": "code",
   "execution_count": 15,
   "metadata": {},
   "outputs": [],
   "source": [
    "from tensorflow.keras.preprocessing.image import ImageDataGenerator\n",
    "img_gen = ImageDataGenerator(rescale=1/255)"
   ]
  },
  {
   "cell_type": "code",
   "execution_count": 16,
   "metadata": {},
   "outputs": [
    {
     "name": "stdout",
     "output_type": "stream",
     "text": [
      "Found 37940 images belonging to 10 classes.\n"
     ]
    }
   ],
   "source": [
    "train_img_gen = img_gen.flow_from_directory('mnist_data/trainingSet/', \n",
    "                                            target_size=(28,28),\n",
    "                                            batch_size=16,\n",
    "                                            class_mode='categorical',\n",
    "                                            color_mode='grayscale')\n",
    "\n",
    "# 16 batch ma one epoch ani ek xoti ma 37940/16 ota image pathaune"
   ]
  },
  {
   "cell_type": "code",
   "execution_count": 17,
   "metadata": {},
   "outputs": [
    {
     "name": "stdout",
     "output_type": "stream",
     "text": [
      "Found 4060 images belonging to 10 classes.\n"
     ]
    }
   ],
   "source": [
    "validate_img_gen = img_gen.flow_from_directory('mnist_data/validatingSet/', \n",
    "                                            target_size=(28,28),\n",
    "                                            batch_size=16,\n",
    "                                            class_mode='categorical',\n",
    "                                            color_mode='grayscale')"
   ]
  },
  {
   "cell_type": "code",
   "execution_count": 18,
   "metadata": {},
   "outputs": [
    {
     "data": {
      "text/plain": [
       "{'0': 0,\n",
       " '1': 1,\n",
       " '2': 2,\n",
       " '3': 3,\n",
       " '4': 4,\n",
       " '5': 5,\n",
       " '6': 6,\n",
       " '7': 7,\n",
       " '8': 8,\n",
       " '9': 9}"
      ]
     },
     "execution_count": 18,
     "metadata": {},
     "output_type": "execute_result"
    }
   ],
   "source": [
    "train_img_gen.class_indices"
   ]
  },
  {
   "cell_type": "code",
   "execution_count": 20,
   "metadata": {},
   "outputs": [
    {
     "name": "stdout",
     "output_type": "stream",
     "text": [
      "100/100 [==============================] - 19s 187ms/step - loss: 0.3417 - accuracy: 0.8994 - val_loss: 0.2668 - val_accuracy: 0.9062\n"
     ]
    }
   ],
   "source": [
    "result = model.fit_generator(train_img_gen,validation_data=validate_img_gen,validation_steps=12,epochs=1,steps_per_epoch=100)\n",
    "# ek epoch ma 100 ota img matra train hune ,, baki image xutxa hai guys\n",
    "# collab ma free gpu dinxa hai guys"
   ]
  },
  {
   "cell_type": "code",
   "execution_count": 21,
   "metadata": {},
   "outputs": [],
   "source": [
    "model.save('mnist_model_stepsPerEpoch100.h5')\n",
    "# architecture ra weight same ma save hunxa hai guys"
   ]
  },
  {
   "cell_type": "code",
   "execution_count": 26,
   "metadata": {},
   "outputs": [],
   "source": [
    "# import numpy as np\n",
    "# import cv2\n",
    "# a = cv2.imread('mnist_data\\testSet\\img_2.jpg',0)\n",
    "# a= cv2.resize(a,(28,28))\n",
    "# print(a.shape)\n",
    "# a = np.expand_dims(a, axis=0)\n",
    "# test_img = np.expand_dims(a,axis=0)\n",
    "# test_img = test_img.transpose((1,2,3,0))\n",
    "# print(test_img.shape)"
   ]
  },
  {
   "cell_type": "code",
   "execution_count": 32,
   "metadata": {},
   "outputs": [
    {
     "data": {
      "image/png": "[encoded data removed]",
      "text/plain": [
       "<Figure size 432x288 with 1 Axes>"
      ]
     },
     "metadata": {
      "needs_background": "light"
     },
     "output_type": "display_data"
    },
    {
     "name": "stdout",
     "output_type": "stream",
     "text": [
      "shape of a : (28, 28)\n",
      "(1, 28, 28, 1)\n"
     ]
    }
   ],
   "source": [
    "import numpy as np\n",
    "import cv2\n",
    "import matplotlib.pyplot as plt\n",
    "%matplotlib inline\n",
    "a = cv2.imread('mnist_data/testSet/img_2.jpg',0)\n",
    "plt.imshow(a)\n",
    "plt.show()\n",
    "a = cv2.resize(a,(28,28))\n",
    "print(\"shape of a :\",a.shape)\n",
    "a =np.expand_dims(a,axis=0)\n",
    "# 28,28,1 1 for grayscale\n",
    "test_img = np.expand_dims(a,axis=0)\n",
    "# 1,1,28,28 xai transpose garexi 1,28,28,1\n",
    "test_img = test_img.transpose((1,2,3,0))/255\n",
    "print(test_img.shape)"
   ]
  },
  {
   "cell_type": "code",
   "execution_count": 30,
   "metadata": {},
   "outputs": [
    {
     "data": {
      "text/plain": [
       "array([0], dtype=int64)"
      ]
     },
     "execution_count": 30,
     "metadata": {},
     "output_type": "execute_result"
    }
   ],
   "source": [
    "a = model.predict_classes(test_img)\n",
    "a"
   ]
  },
  {
   "cell_type": "code",
   "execution_count": null,
   "metadata": {},
   "outputs": [],
   "source": [
    "# task\n",
    "# look yolo\n",
    "# train mnist model with higher accuracy with diff optimizers and loss fn layer\n",
    "# look after transfer learninf\n",
    "# install pycharm\n"
   ]
  }
 ],
 "metadata": {
  "kernelspec": {
   "display_name": "Python 3",
   "language": "python",
   "name": "python3"
  },
  "language_info": {
   "codemirror_mode": {
    "name": "ipython",
    "version": 3
   },
   "file_extension": ".py",
   "mimetype": "text/x-python",
   "name": "python",
   "nbconvert_exporter": "python",
   "pygments_lexer": "ipython3",
   "version": "3.7.4"
  }
 },
 "nbformat": 4,
 "nbformat_minor": 2
}
