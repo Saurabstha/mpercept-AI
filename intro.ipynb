{
 "cells": [
  {
   "cell_type": "code",
   "execution_count": 1,
   "metadata": {},
   "outputs": [],
   "source": [
    "import pandas as pd\n",
    "import numpy as np"
   ]
  },
  {
   "cell_type": "code",
   "execution_count": 2,
   "metadata": {},
   "outputs": [],
   "source": [
    "df = pd.read_csv('titanic_train.csv')"
   ]
  },
  {
   "cell_type": "code",
   "execution_count": 3,
   "metadata": {},
   "outputs": [
    {
     "data": {
      "text/html": [
       "<div>\n",
       "<style scoped>\n",
       "    .dataframe tbody tr th:only-of-type {\n",
       "        vertical-align: middle;\n",
       "    }\n",
       "\n",
       "    .dataframe tbody tr th {\n",
       "        vertical-align: top;\n",
       "    }\n",
       "\n",
       "    .dataframe thead th {\n",
       "        text-align: right;\n",
       "    }\n",
       "</style>\n",
       "<table border=\"1\" class=\"dataframe\">\n",
       "  <thead>\n",
       "    <tr style=\"text-align: right;\">\n",
       "      <th></th>\n",
       "      <th>PassengerId</th>\n",
       "      <th>Survived</th>\n",
       "      <th>Pclass</th>\n",
       "      <th>Name</th>\n",
       "      <th>Sex</th>\n",
       "      <th>Age</th>\n",
       "      <th>SibSp</th>\n",
       "      <th>Parch</th>\n",
       "      <th>Ticket</th>\n",
       "      <th>Fare</th>\n",
       "      <th>Cabin</th>\n",
       "      <th>Embarked</th>\n",
       "    </tr>\n",
       "  </thead>\n",
       "  <tbody>\n",
       "    <tr>\n",
       "      <th>0</th>\n",
       "      <td>1</td>\n",
       "      <td>0</td>\n",
       "      <td>3</td>\n",
       "      <td>Braund, Mr. Owen Harris</td>\n",
       "      <td>male</td>\n",
       "      <td>22.0</td>\n",
       "      <td>1</td>\n",
       "      <td>0</td>\n",
       "      <td>A/5 21171</td>\n",
       "      <td>7.2500</td>\n",
       "      <td>NaN</td>\n",
       "      <td>S</td>\n",
       "    </tr>\n",
       "    <tr>\n",
       "      <th>1</th>\n",
       "      <td>2</td>\n",
       "      <td>1</td>\n",
       "      <td>1</td>\n",
       "      <td>Cumings, Mrs. John Bradley (Florence Briggs Th...</td>\n",
       "      <td>female</td>\n",
       "      <td>38.0</td>\n",
       "      <td>1</td>\n",
       "      <td>0</td>\n",
       "      <td>PC 17599</td>\n",
       "      <td>71.2833</td>\n",
       "      <td>C85</td>\n",
       "      <td>C</td>\n",
       "    </tr>\n",
       "    <tr>\n",
       "      <th>2</th>\n",
       "      <td>3</td>\n",
       "      <td>1</td>\n",
       "      <td>3</td>\n",
       "      <td>Heikkinen, Miss. Laina</td>\n",
       "      <td>female</td>\n",
       "      <td>26.0</td>\n",
       "      <td>0</td>\n",
       "      <td>0</td>\n",
       "      <td>STON/O2. 3101282</td>\n",
       "      <td>7.9250</td>\n",
       "      <td>NaN</td>\n",
       "      <td>S</td>\n",
       "    </tr>\n",
       "    <tr>\n",
       "      <th>3</th>\n",
       "      <td>4</td>\n",
       "      <td>1</td>\n",
       "      <td>1</td>\n",
       "      <td>Futrelle, Mrs. Jacques Heath (Lily May Peel)</td>\n",
       "      <td>female</td>\n",
       "      <td>35.0</td>\n",
       "      <td>1</td>\n",
       "      <td>0</td>\n",
       "      <td>113803</td>\n",
       "      <td>53.1000</td>\n",
       "      <td>C123</td>\n",
       "      <td>S</td>\n",
       "    </tr>\n",
       "    <tr>\n",
       "      <th>4</th>\n",
       "      <td>5</td>\n",
       "      <td>0</td>\n",
       "      <td>3</td>\n",
       "      <td>Allen, Mr. William Henry</td>\n",
       "      <td>male</td>\n",
       "      <td>35.0</td>\n",
       "      <td>0</td>\n",
       "      <td>0</td>\n",
       "      <td>373450</td>\n",
       "      <td>8.0500</td>\n",
       "      <td>NaN</td>\n",
       "      <td>S</td>\n",
       "    </tr>\n",
       "  </tbody>\n",
       "</table>\n",
       "</div>"
      ],
      "text/plain": [
       "   PassengerId  Survived  Pclass  \\\n",
       "0            1         0       3   \n",
       "1            2         1       1   \n",
       "2            3         1       3   \n",
       "3            4         1       1   \n",
       "4            5         0       3   \n",
       "\n",
       "                                                Name     Sex   Age  SibSp  \\\n",
       "0                            Braund, Mr. Owen Harris    male  22.0      1   \n",
       "1  Cumings, Mrs. John Bradley (Florence Briggs Th...  female  38.0      1   \n",
       "2                             Heikkinen, Miss. Laina  female  26.0      0   \n",
       "3       Futrelle, Mrs. Jacques Heath (Lily May Peel)  female  35.0      1   \n",
       "4                           Allen, Mr. William Henry    male  35.0      0   \n",
       "\n",
       "   Parch            Ticket     Fare Cabin Embarked  \n",
       "0      0         A/5 21171   7.2500   NaN        S  \n",
       "1      0          PC 17599  71.2833   C85        C  \n",
       "2      0  STON/O2. 3101282   7.9250   NaN        S  \n",
       "3      0            113803  53.1000  C123        S  \n",
       "4      0            373450   8.0500   NaN        S  "
      ]
     },
     "execution_count": 3,
     "metadata": {},
     "output_type": "execute_result"
    }
   ],
   "source": [
    "df.head(5)"
   ]
  },
  {
   "cell_type": "code",
   "execution_count": 4,
   "metadata": {},
   "outputs": [
    {
     "ename": "TypeError",
     "evalue": "'tuple' object is not callable",
     "output_type": "error",
     "traceback": [
      "\u001b[1;31m---------------------------------------------------------------------------\u001b[0m",
      "\u001b[1;31mTypeError\u001b[0m                                 Traceback (most recent call last)",
      "\u001b[1;32m<ipython-input-4-0e566b70f572>\u001b[0m in \u001b[0;36m<module>\u001b[1;34m()\u001b[0m\n\u001b[1;32m----> 1\u001b[1;33m \u001b[0mdf\u001b[0m\u001b[1;33m.\u001b[0m\u001b[0mshape\u001b[0m\u001b[1;33m(\u001b[0m\u001b[1;33m)\u001b[0m\u001b[1;33m\u001b[0m\u001b[0m\n\u001b[0m",
      "\u001b[1;31mTypeError\u001b[0m: 'tuple' object is not callable"
     ]
    }
   ],
   "source": [
    "df.shape()\n"
   ]
  },
  {
   "cell_type": "code",
   "execution_count": null,
   "metadata": {},
   "outputs": [],
   "source": [
    "df.shape"
   ]
  },
  {
   "cell_type": "code",
   "execution_count": null,
   "metadata": {},
   "outputs": [],
   "source": [
    "df.isnull"
   ]
  },
  {
   "cell_type": "code",
   "execution_count": null,
   "metadata": {},
   "outputs": [],
   "source": [
    "df.isnull()"
   ]
  },
  {
   "cell_type": "code",
   "execution_count": null,
   "metadata": {},
   "outputs": [],
   "source": [
    "b = \"saurab\"+\"shrestha\"\n",
    "print(b)"
   ]
  },
  {
   "cell_type": "code",
   "execution_count": null,
   "metadata": {},
   "outputs": [],
   "source": [
    "b = \"saurab\"+\" shrestha\"\n",
    "print(b)"
   ]
  },
  {
   "cell_type": "code",
   "execution_count": null,
   "metadata": {},
   "outputs": [],
   "source": [
    "//ram krishna"
   ]
  },
  {
   "cell_type": "code",
   "execution_count": null,
   "metadata": {},
   "outputs": [],
   "source": [
    "# //ram krishna"
   ]
  },
  {
   "cell_type": "code",
   "execution_count": null,
   "metadata": {},
   "outputs": [],
   "source": [
    "list = [1,2,3,4,5,6,7]"
   ]
  },
  {
   "cell_type": "code",
   "execution_count": null,
   "metadata": {},
   "outputs": [],
   "source": [
    "list[-1]"
   ]
  },
  {
   "cell_type": "code",
   "execution_count": null,
   "metadata": {},
   "outputs": [],
   "source": [
    "list[0]"
   ]
  },
  {
   "cell_type": "code",
   "execution_count": null,
   "metadata": {},
   "outputs": [],
   "source": [
    "list[:-1]"
   ]
  },
  {
   "cell_type": "code",
   "execution_count": null,
   "metadata": {},
   "outputs": [],
   "source": [
    "list[::-1]"
   ]
  },
  {
   "cell_type": "code",
   "execution_count": null,
   "metadata": {},
   "outputs": [],
   "source": [
    "(1,2,3,4)"
   ]
  },
  {
   "cell_type": "code",
   "execution_count": null,
   "metadata": {},
   "outputs": [],
   "source": [
    "# tuple immutable"
   ]
  },
  {
   "cell_type": "code",
   "execution_count": null,
   "metadata": {},
   "outputs": [],
   "source": [
    "dic = {'name':'saurab'}\n",
    "print(dic)"
   ]
  },
  {
   "cell_type": "code",
   "execution_count": null,
   "metadata": {},
   "outputs": [],
   "source": [
    "print(dic['name'])"
   ]
  },
  {
   "cell_type": "code",
   "execution_count": null,
   "metadata": {},
   "outputs": [],
   "source": [
    "dict1 = {1:'ram', 2:'shyam', '3':'hari'}\n",
    "dict1.keys()\n",
    "dict1.values()"
   ]
  },
  {
   "cell_type": "code",
   "execution_count": null,
   "metadata": {},
   "outputs": [],
   "source": [
    "print(dict1.keys(),\n",
    "dict1.values())"
   ]
  },
  {
   "cell_type": "code",
   "execution_count": null,
   "metadata": {},
   "outputs": [],
   "source": [
    "def function1():\n",
    "    print(\"hello\")\n",
    "    \n",
    "function1()"
   ]
  },
  {
   "cell_type": "code",
   "execution_count": null,
   "metadata": {},
   "outputs": [],
   "source": [
    "def func2(arg):\n",
    "    print(arg)\n",
    "\n",
    "func2(\"hello guys this is from argument\")"
   ]
  },
  {
   "cell_type": "code",
   "execution_count": null,
   "metadata": {},
   "outputs": [],
   "source": [
    "ints = int(input(\"Enter a no guys \\t\"))\n",
    "\n",
    "if ints % 2 == 0:\n",
    "    print(f\"{ints} is even\")\n",
    "    \n",
    "else:\n",
    "    print(f\"{ints} is odd\")\n",
    "\n",
    "    "
   ]
  },
  {
   "cell_type": "code",
   "execution_count": null,
   "metadata": {},
   "outputs": [],
   "source": [
    "print(f\"sq of {ints} is {ints ** 2} .\")"
   ]
  },
  {
   "cell_type": "code",
   "execution_count": null,
   "metadata": {},
   "outputs": [],
   "source": [
    "print(\"sq of {ints} is {ints ** 2} .\")"
   ]
  },
  {
   "cell_type": "code",
   "execution_count": null,
   "metadata": {},
   "outputs": [],
   "source": [
    "class class1():\n",
    "    def __init__(self):\n",
    "        self.id = 1\n",
    "        self.name = \"Saurab\"\n",
    "    \n",
    "    def show(self):\n",
    "        print(self.id, self.name)\n",
    "        \n",
    "    def show_dami(self):\n",
    "        print(f\" Name:{self.name}\")\n",
    "        \n",
    "ob1 = class1()\n",
    "ob1.show_dami()\n",
    "ob1.show()\n",
    "\n",
    "        "
   ]
  },
  {
   "cell_type": "code",
   "execution_count": null,
   "metadata": {},
   "outputs": [],
   "source": [
    "class class2(class1):\n",
    "    def show_dami_id(self):\n",
    "        print(f\" ID:{self.id}\")\n",
    "        \n",
    "ob2 = class2()\n",
    "ob2.show_dami_id()\n",
    "            \n",
    "            \n",
    "\n",
    "        "
   ]
  },
  {
   "cell_type": "code",
   "execution_count": null,
   "metadata": {},
   "outputs": [],
   "source": [
    "class Person:\n",
    "  def __init__(self, fname, lname):\n",
    "    self.firstname = fname\n",
    "    self.lastname = lname\n",
    "\n",
    "  def printname(self):\n",
    "    print(self.firstname, self.lastname)\n",
    "\n",
    "class Student(Person):\n",
    "  def __init__(self, fname, lname, year):\n",
    "    super().__init__(fname, lname)\n",
    "    self.graduationyear = year\n",
    "\n",
    "x = Student(\"Mike\", \"Olsen\", 2019)\n",
    "print(x.graduationyear)"
   ]
  },
  {
   "cell_type": "code",
   "execution_count": null,
   "metadata": {},
   "outputs": [],
   "source": [
    "# numpy\n",
    "# module\n",
    "def even_odd(n):\n",
    "    \"\"\"\n",
    "    comment ho hai guys\n",
    "    \"\"\"\n",
    "    \n",
    "    if n % 2 ==0:\n",
    "        print(\"even\")\n",
    "        \n",
    "    else:\n",
    "        print(\"odd\")\n",
    "        \n",
    "        "
   ]
  },
  {
   "cell_type": "code",
   "execution_count": null,
   "metadata": {},
   "outputs": [],
   "source": [
    "even_odd(55)"
   ]
  },
  {
   "cell_type": "code",
   "execution_count": null,
   "metadata": {},
   "outputs": [],
   "source": [
    "from evenodd import even_odd as eo\n",
    "# module load vayena vane kernel restart garne\n"
   ]
  },
  {
   "cell_type": "code",
   "execution_count": null,
   "metadata": {},
   "outputs": [],
   "source": [
    "eo(4)"
   ]
  },
  {
   "cell_type": "code",
   "execution_count": null,
   "metadata": {},
   "outputs": [],
   "source": [
    "# sudhan kadel\n",
    "# ram acharya\n",
    "# rabindra sapkota\n",
    "# suraj \n",
    "# numpy kada ho hai guys\n"
   ]
  },
  {
   "cell_type": "code",
   "execution_count": null,
   "metadata": {},
   "outputs": [],
   "source": [
    "import numpy as np"
   ]
  },
  {
   "cell_type": "code",
   "execution_count": null,
   "metadata": {},
   "outputs": [],
   "source": [
    "np.__version__"
   ]
  },
  {
   "cell_type": "code",
   "execution_count": null,
   "metadata": {},
   "outputs": [],
   "source": [
    "# shift tab le documentation auxa\n",
    "# tab le available methods haru dekhauxa\n",
    "v = np.array([1,2,3,4])"
   ]
  },
  {
   "cell_type": "code",
   "execution_count": null,
   "metadata": {},
   "outputs": [],
   "source": [
    "type(v)"
   ]
  },
  {
   "cell_type": "code",
   "execution_count": null,
   "metadata": {},
   "outputs": [],
   "source": [
    "print(type(v))"
   ]
  },
  {
   "cell_type": "code",
   "execution_count": null,
   "metadata": {},
   "outputs": [],
   "source": [
    "v\n"
   ]
  },
  {
   "cell_type": "code",
   "execution_count": null,
   "metadata": {},
   "outputs": [],
   "source": [
    "zeros = np.zeros([5,5])"
   ]
  },
  {
   "cell_type": "code",
   "execution_count": null,
   "metadata": {},
   "outputs": [],
   "source": [
    "print(zeros)"
   ]
  },
  {
   "cell_type": "code",
   "execution_count": null,
   "metadata": {},
   "outputs": [],
   "source": [
    "zeros.shape"
   ]
  },
  {
   "cell_type": "code",
   "execution_count": null,
   "metadata": {},
   "outputs": [],
   "source": [
    "zeros.reshape(1,25)\n"
   ]
  },
  {
   "cell_type": "code",
   "execution_count": 5,
   "metadata": {},
   "outputs": [
    {
     "ename": "NameError",
     "evalue": "name 'zeros' is not defined",
     "output_type": "error",
     "traceback": [
      "\u001b[1;31m---------------------------------------------------------------------------\u001b[0m",
      "\u001b[1;31mNameError\u001b[0m                                 Traceback (most recent call last)",
      "\u001b[1;32m<ipython-input-5-58c06ce4c999>\u001b[0m in \u001b[0;36m<module>\u001b[1;34m()\u001b[0m\n\u001b[1;32m----> 1\u001b[1;33m \u001b[0mzeros\u001b[0m\u001b[1;33m.\u001b[0m\u001b[0mreshape\u001b[0m\u001b[1;33m(\u001b[0m\u001b[1;36m25\u001b[0m\u001b[1;33m,\u001b[0m\u001b[1;36m1\u001b[0m\u001b[1;33m)\u001b[0m\u001b[1;33m\u001b[0m\u001b[0m\n\u001b[0m",
      "\u001b[1;31mNameError\u001b[0m: name 'zeros' is not defined"
     ]
    }
   ],
   "source": [
    "zeros.reshape(25,1)\n"
   ]
  },
  {
   "cell_type": "code",
   "execution_count": 6,
   "metadata": {},
   "outputs": [
    {
     "ename": "NameError",
     "evalue": "name 'zeros' is not defined",
     "output_type": "error",
     "traceback": [
      "\u001b[1;31m---------------------------------------------------------------------------\u001b[0m",
      "\u001b[1;31mNameError\u001b[0m                                 Traceback (most recent call last)",
      "\u001b[1;32m<ipython-input-6-93693bbc3136>\u001b[0m in \u001b[0;36m<module>\u001b[1;34m()\u001b[0m\n\u001b[1;32m----> 1\u001b[1;33m len(zeros.reshape(25,1)\n\u001b[0m\u001b[0;32m      2\u001b[0m )\n",
      "\u001b[1;31mNameError\u001b[0m: name 'zeros' is not defined"
     ]
    }
   ],
   "source": [
    "len(zeros.reshape(25,1)\n",
    ")"
   ]
  },
  {
   "cell_type": "code",
   "execution_count": 7,
   "metadata": {},
   "outputs": [
    {
     "ename": "NameError",
     "evalue": "name 'zeros' is not defined",
     "output_type": "error",
     "traceback": [
      "\u001b[1;31m---------------------------------------------------------------------------\u001b[0m",
      "\u001b[1;31mNameError\u001b[0m                                 Traceback (most recent call last)",
      "\u001b[1;32m<ipython-input-7-51c5435ac498>\u001b[0m in \u001b[0;36m<module>\u001b[1;34m()\u001b[0m\n\u001b[1;32m----> 1\u001b[1;33m \u001b[0mzeros\u001b[0m\u001b[1;33m.\u001b[0m\u001b[0mreshape\u001b[0m\u001b[1;33m(\u001b[0m\u001b[1;36m25\u001b[0m\u001b[1;33m,\u001b[0m\u001b[1;33m-\u001b[0m\u001b[1;36m1\u001b[0m\u001b[1;33m)\u001b[0m\u001b[1;33m\u001b[0m\u001b[0m\n\u001b[0m\u001b[0;32m      2\u001b[0m \u001b[1;31m# row 25 ota column jati pani as idk\u001b[0m\u001b[1;33m\u001b[0m\u001b[1;33m\u001b[0m\u001b[0m\n",
      "\u001b[1;31mNameError\u001b[0m: name 'zeros' is not defined"
     ]
    }
   ],
   "source": [
    "zeros.reshape(25,-1)\n",
    "# row 25 ota column jati pani as idk\n"
   ]
  },
  {
   "cell_type": "code",
   "execution_count": 8,
   "metadata": {},
   "outputs": [
    {
     "data": {
      "text/plain": [
       "array([5, 5, 5, 5, 5, 5, 5, 5, 5, 5, 5, 5, 5, 5, 5, 5, 5, 5, 5, 5, 5, 5,\n",
       "       5, 5, 5, 5, 5, 5, 5, 5, 5, 5, 5, 5, 5, 5, 5, 5, 5, 5, 5, 5, 5, 5,\n",
       "       5, 5, 5, 5, 5, 5, 5, 5, 5, 5, 5, 5, 5, 5, 5, 5, 5, 5, 5, 5, 5, 5,\n",
       "       5, 5, 5, 5, 5, 5, 5, 5, 5, 5, 5, 5, 5, 5, 5, 5, 5, 5, 5, 5, 5, 5,\n",
       "       5, 5, 5, 5, 5, 5, 5, 5, 5, 5, 5, 5])"
      ]
     },
     "execution_count": 8,
     "metadata": {},
     "output_type": "execute_result"
    }
   ],
   "source": [
    "repeat = np.repeat(5,100)\n",
    "repeat"
   ]
  },
  {
   "cell_type": "code",
   "execution_count": 9,
   "metadata": {},
   "outputs": [
    {
     "data": {
      "text/plain": [
       "(10, 10)"
      ]
     },
     "execution_count": 9,
     "metadata": {},
     "output_type": "execute_result"
    }
   ],
   "source": [
    "a=repeat.reshape(10,10)\n",
    "a.shape"
   ]
  },
  {
   "cell_type": "code",
   "execution_count": 10,
   "metadata": {},
   "outputs": [
    {
     "data": {
      "text/plain": [
       "500"
      ]
     },
     "execution_count": 10,
     "metadata": {},
     "output_type": "execute_result"
    }
   ],
   "source": [
    "sum = np.sum(repeat,axis=0)\n",
    "sum"
   ]
  },
  {
   "cell_type": "code",
   "execution_count": 11,
   "metadata": {},
   "outputs": [
    {
     "data": {
      "text/plain": [
       "array([ 1,  4,  9, 16, 25], dtype=int32)"
      ]
     },
     "execution_count": 11,
     "metadata": {},
     "output_type": "execute_result"
    }
   ],
   "source": [
    "list3 = [1,2,3,4,5]\n",
    "# list3**2\n",
    "arr2 = np.array(list3)\n",
    "arr2**2"
   ]
  },
  {
   "cell_type": "code",
   "execution_count": 12,
   "metadata": {},
   "outputs": [
    {
     "data": {
      "text/plain": [
       "(5, 5)"
      ]
     },
     "execution_count": 12,
     "metadata": {},
     "output_type": "execute_result"
    }
   ],
   "source": [
    "rand = np.random.randn(5,5)\n",
    "# rand\n",
    "rand.shape"
   ]
  },
  {
   "cell_type": "code",
   "execution_count": 13,
   "metadata": {},
   "outputs": [],
   "source": [
    "rant2 = np.random.randint(5,400,500)"
   ]
  },
  {
   "cell_type": "code",
   "execution_count": 14,
   "metadata": {},
   "outputs": [
    {
     "data": {
      "text/plain": [
       "array([ 55, 123, 162, 261, 320, 314, 226,  50, 353, 254, 159, 280, 179,\n",
       "       390, 361, 157,  14,  79,  76,  26,  39,  40, 247,  23,  77, 390,\n",
       "       293,  11, 248,  30, 282, 169, 192, 186, 348, 309, 229,   5, 231,\n",
       "       378, 274,   6, 306, 369,  28, 359,  72, 330, 164, 344,  95, 337,\n",
       "       146, 280, 215,  66, 221,  52, 143, 124, 172, 358, 106, 286, 286,\n",
       "       131, 259,  95, 217, 160, 265, 203, 158, 108, 376, 122, 273, 314,\n",
       "       140, 223, 208, 157,  97, 223, 262, 350, 294,  51, 316, 216,  65,\n",
       "       327, 224, 208, 380, 249,  86, 246, 267, 161, 212,  25,  86, 163,\n",
       "        59, 325, 337,  20, 193, 134, 334,  19,  75, 289,  54, 311, 391,\n",
       "        69,  60, 119,  66, 174,  41, 268,  18,  97, 377, 364,  74, 106,\n",
       "       353, 191,  48, 206,  78, 297, 140,  65, 189, 249, 136,  78, 352,\n",
       "       321, 287,  18, 389, 336, 213, 356, 348, 271,  44, 384,  32, 256,\n",
       "       249, 116, 317, 260, 368, 393, 158, 102, 325,  57, 150, 204, 261,\n",
       "        13, 348,  86, 144, 365, 149, 150, 284,  21,  32, 332, 395, 146,\n",
       "       131, 100, 253, 282,  33,  82, 314, 261,  52, 154, 247, 334, 292,\n",
       "       347,  97, 297, 176, 122,  71, 354,  79,  26, 255, 113, 279,  82,\n",
       "       314, 156, 305, 278,  66, 354,  47, 398, 378, 153, 191, 122, 168,\n",
       "       383, 192, 212,   6, 107,  63, 356, 106, 282, 151, 329,   8, 282,\n",
       "       286, 126, 301, 153, 316,  12, 235, 326, 214, 383, 338,  51, 320,\n",
       "       148, 356, 388, 305, 196,  50, 371, 288, 210, 128, 275, 352, 299,\n",
       "       352,  20, 123, 210, 146, 109, 275, 349, 267, 119, 107, 349,  38,\n",
       "       199,  58, 385, 305, 326, 370, 190,  56,  22, 169,  53, 246, 257,\n",
       "        26, 222, 372, 183, 314, 311,  90,  42, 353,  58,  43, 122, 376,\n",
       "        71, 169, 289,  81, 205, 376, 205,  59, 366, 335, 317,  38, 188,\n",
       "       398, 318, 379, 374,   8, 287, 342, 273, 268, 154,  58, 216, 366,\n",
       "       360, 197, 203, 393, 333,  50, 134, 298, 164, 165, 103, 236, 398,\n",
       "        46,  80, 379, 132, 317, 351, 105, 110,  61, 198, 115, 110,  56,\n",
       "       167, 130, 141, 170, 238, 383, 146, 279, 328, 265, 340, 325,  21,\n",
       "       224, 311, 365, 396, 206, 138, 322, 118,  41, 356, 249, 213,  52,\n",
       "       193, 373, 244, 161, 212, 239, 143, 218, 229, 247, 137, 128, 246,\n",
       "       267, 260, 380, 344, 126, 168, 243, 309, 272,  53, 266, 164, 284,\n",
       "       300,  61,  14, 267,  89,  40, 361, 363, 190,  54, 255, 241, 173,\n",
       "       112, 107, 171, 127, 117, 290, 267, 381, 387,  72, 128, 199,  11,\n",
       "        24,  47, 114,  55, 233, 107, 379,  51,  40, 231,  90, 115, 100,\n",
       "        45,  34, 333, 159, 287, 316,  85, 333, 185, 307, 192, 247, 181,\n",
       "       235, 249, 382,  16, 338, 115, 136, 398, 365,  65,  87, 341,  66,\n",
       "       348, 244,  56, 242, 231,  91, 212, 244, 330, 259, 140, 379, 203,\n",
       "       256, 217, 394, 245, 181, 345,  59,  53,  76, 225,  43, 197, 176,\n",
       "       134, 311, 378, 119, 140, 314])"
      ]
     },
     "execution_count": 14,
     "metadata": {},
     "output_type": "execute_result"
    }
   ],
   "source": [
    "rant2"
   ]
  },
  {
   "cell_type": "code",
   "execution_count": 15,
   "metadata": {},
   "outputs": [],
   "source": [
    "from collections import Counter\n",
    "\n",
    "counts = Counter(rant2)"
   ]
  },
  {
   "cell_type": "code",
   "execution_count": 16,
   "metadata": {},
   "outputs": [
    {
     "data": {
      "text/plain": [
       "Counter({55: 2,\n",
       "         123: 2,\n",
       "         162: 1,\n",
       "         261: 3,\n",
       "         320: 2,\n",
       "         314: 6,\n",
       "         226: 1,\n",
       "         50: 3,\n",
       "         353: 3,\n",
       "         254: 1,\n",
       "         159: 2,\n",
       "         280: 2,\n",
       "         179: 1,\n",
       "         390: 2,\n",
       "         361: 2,\n",
       "         157: 2,\n",
       "         14: 2,\n",
       "         79: 2,\n",
       "         76: 2,\n",
       "         26: 3,\n",
       "         39: 1,\n",
       "         40: 3,\n",
       "         247: 4,\n",
       "         23: 1,\n",
       "         77: 1,\n",
       "         293: 1,\n",
       "         11: 2,\n",
       "         248: 1,\n",
       "         30: 1,\n",
       "         282: 4,\n",
       "         169: 3,\n",
       "         192: 3,\n",
       "         186: 1,\n",
       "         348: 4,\n",
       "         309: 2,\n",
       "         229: 2,\n",
       "         5: 1,\n",
       "         231: 3,\n",
       "         378: 3,\n",
       "         274: 1,\n",
       "         6: 2,\n",
       "         306: 1,\n",
       "         369: 1,\n",
       "         28: 1,\n",
       "         359: 1,\n",
       "         72: 2,\n",
       "         330: 2,\n",
       "         164: 3,\n",
       "         344: 2,\n",
       "         95: 2,\n",
       "         337: 2,\n",
       "         146: 4,\n",
       "         215: 1,\n",
       "         66: 4,\n",
       "         221: 1,\n",
       "         52: 3,\n",
       "         143: 2,\n",
       "         124: 1,\n",
       "         172: 1,\n",
       "         358: 1,\n",
       "         106: 3,\n",
       "         286: 3,\n",
       "         131: 2,\n",
       "         259: 2,\n",
       "         217: 2,\n",
       "         160: 1,\n",
       "         265: 2,\n",
       "         203: 3,\n",
       "         158: 2,\n",
       "         108: 1,\n",
       "         376: 3,\n",
       "         122: 4,\n",
       "         273: 2,\n",
       "         140: 4,\n",
       "         223: 2,\n",
       "         208: 2,\n",
       "         97: 3,\n",
       "         262: 1,\n",
       "         350: 1,\n",
       "         294: 1,\n",
       "         51: 3,\n",
       "         316: 3,\n",
       "         216: 2,\n",
       "         65: 3,\n",
       "         327: 1,\n",
       "         224: 2,\n",
       "         380: 2,\n",
       "         249: 5,\n",
       "         86: 3,\n",
       "         246: 3,\n",
       "         267: 5,\n",
       "         161: 2,\n",
       "         212: 4,\n",
       "         25: 1,\n",
       "         163: 1,\n",
       "         59: 3,\n",
       "         325: 3,\n",
       "         20: 2,\n",
       "         193: 2,\n",
       "         134: 3,\n",
       "         334: 2,\n",
       "         19: 1,\n",
       "         75: 1,\n",
       "         289: 2,\n",
       "         54: 2,\n",
       "         311: 4,\n",
       "         391: 1,\n",
       "         69: 1,\n",
       "         60: 1,\n",
       "         119: 3,\n",
       "         174: 1,\n",
       "         41: 2,\n",
       "         268: 2,\n",
       "         18: 2,\n",
       "         377: 1,\n",
       "         364: 1,\n",
       "         74: 1,\n",
       "         191: 2,\n",
       "         48: 1,\n",
       "         206: 2,\n",
       "         78: 2,\n",
       "         297: 2,\n",
       "         189: 1,\n",
       "         136: 2,\n",
       "         352: 3,\n",
       "         321: 1,\n",
       "         287: 3,\n",
       "         389: 1,\n",
       "         336: 1,\n",
       "         213: 2,\n",
       "         356: 4,\n",
       "         271: 1,\n",
       "         44: 1,\n",
       "         384: 1,\n",
       "         32: 2,\n",
       "         256: 2,\n",
       "         116: 1,\n",
       "         317: 3,\n",
       "         260: 2,\n",
       "         368: 1,\n",
       "         393: 2,\n",
       "         102: 1,\n",
       "         57: 1,\n",
       "         150: 2,\n",
       "         204: 1,\n",
       "         13: 1,\n",
       "         144: 1,\n",
       "         365: 3,\n",
       "         149: 1,\n",
       "         284: 2,\n",
       "         21: 2,\n",
       "         332: 1,\n",
       "         395: 1,\n",
       "         100: 2,\n",
       "         253: 1,\n",
       "         33: 1,\n",
       "         82: 2,\n",
       "         154: 2,\n",
       "         292: 1,\n",
       "         347: 1,\n",
       "         176: 2,\n",
       "         71: 2,\n",
       "         354: 2,\n",
       "         255: 2,\n",
       "         113: 1,\n",
       "         279: 2,\n",
       "         156: 1,\n",
       "         305: 3,\n",
       "         278: 1,\n",
       "         47: 2,\n",
       "         398: 4,\n",
       "         153: 2,\n",
       "         168: 2,\n",
       "         383: 3,\n",
       "         107: 4,\n",
       "         63: 1,\n",
       "         151: 1,\n",
       "         329: 1,\n",
       "         8: 2,\n",
       "         126: 2,\n",
       "         301: 1,\n",
       "         12: 1,\n",
       "         235: 2,\n",
       "         326: 2,\n",
       "         214: 1,\n",
       "         338: 2,\n",
       "         148: 1,\n",
       "         388: 1,\n",
       "         196: 1,\n",
       "         371: 1,\n",
       "         288: 1,\n",
       "         210: 2,\n",
       "         128: 3,\n",
       "         275: 2,\n",
       "         299: 1,\n",
       "         109: 1,\n",
       "         349: 2,\n",
       "         38: 2,\n",
       "         199: 2,\n",
       "         58: 3,\n",
       "         385: 1,\n",
       "         370: 1,\n",
       "         190: 2,\n",
       "         56: 3,\n",
       "         22: 1,\n",
       "         53: 3,\n",
       "         257: 1,\n",
       "         222: 1,\n",
       "         372: 1,\n",
       "         183: 1,\n",
       "         90: 2,\n",
       "         42: 1,\n",
       "         43: 2,\n",
       "         81: 1,\n",
       "         205: 2,\n",
       "         366: 2,\n",
       "         335: 1,\n",
       "         188: 1,\n",
       "         318: 1,\n",
       "         379: 4,\n",
       "         374: 1,\n",
       "         342: 1,\n",
       "         360: 1,\n",
       "         197: 2,\n",
       "         333: 3,\n",
       "         298: 1,\n",
       "         165: 1,\n",
       "         103: 1,\n",
       "         236: 1,\n",
       "         46: 1,\n",
       "         80: 1,\n",
       "         132: 1,\n",
       "         351: 1,\n",
       "         105: 1,\n",
       "         110: 2,\n",
       "         61: 2,\n",
       "         198: 1,\n",
       "         115: 3,\n",
       "         167: 1,\n",
       "         130: 1,\n",
       "         141: 1,\n",
       "         170: 1,\n",
       "         238: 1,\n",
       "         328: 1,\n",
       "         340: 1,\n",
       "         396: 1,\n",
       "         138: 1,\n",
       "         322: 1,\n",
       "         118: 1,\n",
       "         373: 1,\n",
       "         244: 3,\n",
       "         239: 1,\n",
       "         218: 1,\n",
       "         137: 1,\n",
       "         243: 1,\n",
       "         272: 1,\n",
       "         266: 1,\n",
       "         300: 1,\n",
       "         89: 1,\n",
       "         363: 1,\n",
       "         241: 1,\n",
       "         173: 1,\n",
       "         112: 1,\n",
       "         171: 1,\n",
       "         127: 1,\n",
       "         117: 1,\n",
       "         290: 1,\n",
       "         381: 1,\n",
       "         387: 1,\n",
       "         24: 1,\n",
       "         114: 1,\n",
       "         233: 1,\n",
       "         45: 1,\n",
       "         34: 1,\n",
       "         85: 1,\n",
       "         185: 1,\n",
       "         307: 1,\n",
       "         181: 2,\n",
       "         382: 1,\n",
       "         16: 1,\n",
       "         87: 1,\n",
       "         341: 1,\n",
       "         242: 1,\n",
       "         91: 1,\n",
       "         394: 1,\n",
       "         245: 1,\n",
       "         345: 1,\n",
       "         225: 1})"
      ]
     },
     "execution_count": 16,
     "metadata": {},
     "output_type": "execute_result"
    }
   ],
   "source": [
    "counts"
   ]
  },
  {
   "cell_type": "code",
   "execution_count": 17,
   "metadata": {},
   "outputs": [
    {
     "name": "stdout",
     "output_type": "stream",
     "text": [
      "288 500\n"
     ]
    }
   ],
   "source": [
    "print(len(counts),len(rant2))\n"
   ]
  },
  {
   "cell_type": "code",
   "execution_count": 18,
   "metadata": {},
   "outputs": [],
   "source": [
    "l1= []\n",
    "\n",
    "l1.append(1)"
   ]
  },
  {
   "cell_type": "code",
   "execution_count": 19,
   "metadata": {},
   "outputs": [
    {
     "data": {
      "text/plain": [
       "[1]"
      ]
     },
     "execution_count": 19,
     "metadata": {},
     "output_type": "execute_result"
    }
   ],
   "source": [
    "l1"
   ]
  },
  {
   "cell_type": "code",
   "execution_count": 20,
   "metadata": {},
   "outputs": [
    {
     "data": {
      "text/plain": [
       "[1, 2, 3, [1, 2]]"
      ]
     },
     "execution_count": 20,
     "metadata": {},
     "output_type": "execute_result"
    }
   ],
   "source": [
    "l2 = [1,2,3,[1,2]]\n",
    "l2"
   ]
  },
  {
   "cell_type": "code",
   "execution_count": 21,
   "metadata": {},
   "outputs": [
    {
     "data": {
      "text/plain": [
       "(1, 2, 3)"
      ]
     },
     "execution_count": 21,
     "metadata": {},
     "output_type": "execute_result"
    }
   ],
   "source": [
    "# tuple\n",
    "# tuple immutable hai guys\n",
    "t1 = (1,2,3)\n",
    "t1"
   ]
  },
  {
   "cell_type": "code",
   "execution_count": 23,
   "metadata": {},
   "outputs": [
    {
     "data": {
      "text/plain": [
       "dict_values(['Nepal', 'India'])"
      ]
     },
     "execution_count": 23,
     "metadata": {},
     "output_type": "execute_result"
    }
   ],
   "source": [
    "# dictionary\n",
    "d1 = {}\n",
    "d1[1] = 'Nepal'\n",
    "d1[2] = 'India'\n",
    "# d1\n",
    "d1.values()\n",
    "\n"
   ]
  },
  {
   "cell_type": "code",
   "execution_count": null,
   "metadata": {},
   "outputs": [],
   "source": []
  }
 ],
 "metadata": {
  "kernelspec": {
   "display_name": "Python 3",
   "language": "python",
   "name": "python3"
  },
  "language_info": {
   "codemirror_mode": {
    "name": "ipython",
    "version": 3
   },
   "file_extension": ".py",
   "mimetype": "text/x-python",
   "name": "python",
   "nbconvert_exporter": "python",
   "pygments_lexer": "ipython3",
   "version": "3.6.5"
  }
 },
 "nbformat": 4,
 "nbformat_minor": 2
}
